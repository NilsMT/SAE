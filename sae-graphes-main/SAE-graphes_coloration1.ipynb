{
 "cells": [
  {
   "attachments": {},
   "cell_type": "markdown",
   "metadata": {
    "id": "ig4qj29e6Mii"
   },
   "source": [
    "# SAE sur les graphes : définition de plannings à l'aide de la coloration de sommets ou d'arêtes\n",
    "\n",
    "Dans cette SAE sur les graphes, l'objectif est de pouvoir faire de la coloration de graphe, en utilisant l'algorithme de Welsh et Powell. La coloration de graphes sera utilisée pour établir des plannings, pour différentes applications.\n",
    "\n",
    "La représentation choisie pour les graphes non-orientés est une matrice d'adjacence, qui sera représentée par un tableau de tableau (les noms des sommets sont des entiers et seront numérotés en commençant à 0). Nous considérons que le nombre de sommets du graphe ne pourra pas être modifié une fois le graphe construit. Un tableau contenant le nom associé à chaque sommet sera également créé.\n"
   ]
  },
  {
   "attachments": {},
   "cell_type": "markdown",
   "metadata": {},
   "source": [
    "## Utilisation de graphviz pour visualiser les graphes"
   ]
  },
  {
   "attachments": {},
   "cell_type": "markdown",
   "metadata": {},
   "source": [
    "#### Installation de graphviz pour pouvoir visualiser les graphes"
   ]
  },
  {
   "cell_type": "code",
   "execution_count": 116,
   "metadata": {
    "id": "dJOAb8jn6bx9"
   },
   "outputs": [
    {
     "data": {
      "text/plain": [
       "('0.20.1', (8, 0, 5))"
      ]
     },
     "execution_count": 116,
     "metadata": {},
     "output_type": "execute_result"
    }
   ],
   "source": [
    "import graphviz\n",
    "graphviz.__version__, graphviz.version()"
   ]
  },
  {
   "attachments": {},
   "cell_type": "markdown",
   "metadata": {
    "id": "Nvb-erzR_nnA"
   },
   "source": [
    "#### Création d'une fonction de conversion d'un graphe, défini par une matrice d'adjacence, vers le format graphviz"
   ]
  },
  {
   "cell_type": "code",
   "execution_count": 117,
   "metadata": {
    "id": "JVyp5Hg4_udn"
   },
   "outputs": [],
   "source": [
    "def creation_graphe_graphviz(g):\n",
    "    # création d'un graphe non orienté\n",
    "    dot = graphviz.Graph()\n",
    "    \n",
    "    # ajout des sommets\n",
    "    for i in range(len(g)):\n",
    "        dot.node(str(i))\n",
    "    \n",
    "    # ajout des arêtes\n",
    "    for i in range(len(g)):\n",
    "        for j in range(i):\n",
    "            if g[i][j] == 1:\n",
    "                dot.edge(str(i), str(j))\n",
    "    \n",
    "    return dot"
   ]
  },
  {
   "attachments": {},
   "cell_type": "markdown",
   "metadata": {},
   "source": [
    "## Graphes non orientés"
   ]
  },
  {
   "attachments": {},
   "cell_type": "markdown",
   "metadata": {},
   "source": [
    "### Définition des fonctions utiles"
   ]
  },
  {
   "attachments": {},
   "cell_type": "markdown",
   "metadata": {},
   "source": [
    "#### Fonction qui construit un graphe vide (sans aretes), avec le nombre de sommets donné, et qui retourne la matrice d'adjacence correspondante"
   ]
  },
  {
   "cell_type": "code",
   "execution_count": 118,
   "metadata": {},
   "outputs": [],
   "source": [
    "def graphe_vide(n):\n",
    "    g = []\n",
    "    for i in range(n):\n",
    "        l = []\n",
    "        for j in range(n):\n",
    "            l.append(0)\n",
    "        g.append(l)\n",
    "    return g"
   ]
  },
  {
   "attachments": {},
   "cell_type": "markdown",
   "metadata": {},
   "source": [
    "#### Fonction qui donne le nombre de sommets du graphe"
   ]
  },
  {
   "cell_type": "code",
   "execution_count": 119,
   "metadata": {},
   "outputs": [],
   "source": [
    "def nb_sommet(graphe):\n",
    "    return len(graphe)"
   ]
  },
  {
   "attachments": {},
   "cell_type": "markdown",
   "metadata": {},
   "source": [
    "#### Fonction qui retourne vrai si l'arete, dont les numéros de sommets extrémités sont donnés, existe"
   ]
  },
  {
   "cell_type": "code",
   "execution_count": 120,
   "metadata": {},
   "outputs": [],
   "source": [
    "def est_arete(g, i, j):\n",
    "    return g[i][j] == 1"
   ]
  },
  {
   "attachments": {},
   "cell_type": "markdown",
   "metadata": {},
   "source": [
    "#### Fonction qui calcule le nombre d'arêtes du graphe"
   ]
  },
  {
   "cell_type": "code",
   "execution_count": 121,
   "metadata": {},
   "outputs": [],
   "source": [
    "def nb_aretes(graphe):\n",
    "    nb = 0\n",
    "    \n",
    "    # à compléter\n",
    "    for i in graphe:\n",
    "        for j in i:\n",
    "            if j==1:\n",
    "                nb+=1\n",
    "    return nb/2"
   ]
  },
  {
   "attachments": {},
   "cell_type": "markdown",
   "metadata": {},
   "source": [
    "#### Fonction qui calcule le degré d'un sommet"
   ]
  },
  {
   "cell_type": "code",
   "execution_count": 122,
   "metadata": {},
   "outputs": [],
   "source": [
    "def degre(g, i):\n",
    "    nb=0\n",
    "    for e in range(len(g)):\n",
    "        if e==i: #c'est l'sommet\n",
    "            for v in g[e]:\n",
    "                if v==1:\n",
    "                    nb+=1\n",
    "    return nb"
   ]
  },
  {
   "attachments": {},
   "cell_type": "markdown",
   "metadata": {},
   "source": [
    "### Quelques tests des fonctions"
   ]
  },
  {
   "attachments": {},
   "cell_type": "markdown",
   "metadata": {},
   "source": [
    "#### Définition d'un premier graphe"
   ]
  },
  {
   "cell_type": "code",
   "execution_count": 123,
   "metadata": {},
   "outputs": [
    {
     "data": {
      "image/svg+xml": [
       "<?xml version=\"1.0\" encoding=\"UTF-8\" standalone=\"no\"?>\n",
       "<!DOCTYPE svg PUBLIC \"-//W3C//DTD SVG 1.1//EN\"\n",
       " \"http://www.w3.org/Graphics/SVG/1.1/DTD/svg11.dtd\">\n",
       "<!-- Generated by graphviz version 8.0.5 (20230430.1635)\n",
       " -->\n",
       "<!-- Pages: 1 -->\n",
       "<svg width=\"143pt\" height=\"188pt\"\n",
       " viewBox=\"0.00 0.00 143.00 188.00\" xmlns=\"http://www.w3.org/2000/svg\" xmlns:xlink=\"http://www.w3.org/1999/xlink\">\n",
       "<g id=\"graph0\" class=\"graph\" transform=\"scale(1 1) rotate(0) translate(4 184)\">\n",
       "<polygon fill=\"white\" stroke=\"none\" points=\"-4,4 -4,-184 139,-184 139,4 -4,4\"/>\n",
       "<!-- 0 -->\n",
       "<g id=\"node1\" class=\"node\">\n",
       "<title>0</title>\n",
       "<ellipse fill=\"none\" stroke=\"black\" cx=\"27\" cy=\"-18\" rx=\"27\" ry=\"18\"/>\n",
       "<text text-anchor=\"middle\" x=\"27\" y=\"-12.57\" font-family=\"Times New Roman,serif\" font-size=\"14.00\">0</text>\n",
       "</g>\n",
       "<!-- 1 -->\n",
       "<g id=\"node2\" class=\"node\">\n",
       "<title>1</title>\n",
       "<ellipse fill=\"none\" stroke=\"black\" cx=\"108\" cy=\"-18\" rx=\"27\" ry=\"18\"/>\n",
       "<text text-anchor=\"middle\" x=\"108\" y=\"-12.57\" font-family=\"Times New Roman,serif\" font-size=\"14.00\">1</text>\n",
       "</g>\n",
       "<!-- 2 -->\n",
       "<g id=\"node3\" class=\"node\">\n",
       "<title>2</title>\n",
       "<ellipse fill=\"none\" stroke=\"black\" cx=\"63\" cy=\"-90\" rx=\"27\" ry=\"18\"/>\n",
       "<text text-anchor=\"middle\" x=\"63\" y=\"-84.58\" font-family=\"Times New Roman,serif\" font-size=\"14.00\">2</text>\n",
       "</g>\n",
       "<!-- 2&#45;&#45;0 -->\n",
       "<g id=\"edge1\" class=\"edge\">\n",
       "<title>2&#45;&#45;0</title>\n",
       "<path fill=\"none\" stroke=\"black\" d=\"M54.65,-72.76C48.83,-61.46 41.11,-46.44 35.3,-35.15\"/>\n",
       "</g>\n",
       "<!-- 2&#45;&#45;1 -->\n",
       "<g id=\"edge2\" class=\"edge\">\n",
       "<title>2&#45;&#45;1</title>\n",
       "<path fill=\"none\" stroke=\"black\" d=\"M73.21,-73.12C80.58,-61.66 90.47,-46.26 97.83,-34.82\"/>\n",
       "</g>\n",
       "<!-- 3 -->\n",
       "<g id=\"node4\" class=\"node\">\n",
       "<title>3</title>\n",
       "<ellipse fill=\"none\" stroke=\"black\" cx=\"63\" cy=\"-162\" rx=\"27\" ry=\"18\"/>\n",
       "<text text-anchor=\"middle\" x=\"63\" y=\"-156.57\" font-family=\"Times New Roman,serif\" font-size=\"14.00\">3</text>\n",
       "</g>\n",
       "<!-- 3&#45;&#45;0 -->\n",
       "<g id=\"edge3\" class=\"edge\">\n",
       "<title>3&#45;&#45;0</title>\n",
       "<path fill=\"none\" stroke=\"black\" d=\"M49.25,-146.07C41.04,-136.1 31.38,-122.25 27,-108 19.6,-83.93 21.62,-54.43 24.07,-36.17\"/>\n",
       "</g>\n",
       "<!-- 3&#45;&#45;1 -->\n",
       "<g id=\"edge4\" class=\"edge\">\n",
       "<title>3&#45;&#45;1</title>\n",
       "<path fill=\"none\" stroke=\"black\" d=\"M76.27,-145.91C84.28,-135.87 93.91,-122.01 99,-108 107.65,-84.21 108.93,-54.63 108.72,-36.28\"/>\n",
       "</g>\n",
       "<!-- 3&#45;&#45;2 -->\n",
       "<g id=\"edge5\" class=\"edge\">\n",
       "<title>3&#45;&#45;2</title>\n",
       "<path fill=\"none\" stroke=\"black\" d=\"M63,-143.7C63,-132.85 63,-118.92 63,-108.1\"/>\n",
       "</g>\n",
       "</g>\n",
       "</svg>\n"
      ],
      "text/plain": [
       "<graphviz.graphs.Graph at 0x29b30736e30>"
      ]
     },
     "execution_count": 123,
     "metadata": {},
     "output_type": "execute_result"
    }
   ],
   "source": [
    "graphe1 = [[0,0,1,1],\n",
    "          [0,0,1,1],\n",
    "          [1,1,0,1],\n",
    "          [1,1,1,0]]\n",
    "\n",
    "noms_sommets_graphe1 = {0:\"Maths\", 1:\"Informatique\", 2:\"Anglais\", 3:\"Gestion\"}\n",
    "\n",
    "gdot1 = creation_graphe_graphviz(graphe1)\n",
    "#print(gdot1.source)\n",
    "gdot1"
   ]
  },
  {
   "attachments": {},
   "cell_type": "markdown",
   "metadata": {},
   "source": [
    "#### Définition d'un second graphe"
   ]
  },
  {
   "cell_type": "code",
   "execution_count": 124,
   "metadata": {},
   "outputs": [
    {
     "name": "stdout",
     "output_type": "stream",
     "text": [
      "2\n"
     ]
    },
    {
     "data": {
      "image/svg+xml": [
       "<?xml version=\"1.0\" encoding=\"UTF-8\" standalone=\"no\"?>\n",
       "<!DOCTYPE svg PUBLIC \"-//W3C//DTD SVG 1.1//EN\"\n",
       " \"http://www.w3.org/Graphics/SVG/1.1/DTD/svg11.dtd\">\n",
       "<!-- Generated by graphviz version 8.0.5 (20230430.1635)\n",
       " -->\n",
       "<!-- Pages: 1 -->\n",
       "<svg width=\"206pt\" height=\"260pt\"\n",
       " viewBox=\"0.00 0.00 206.00 260.00\" xmlns=\"http://www.w3.org/2000/svg\" xmlns:xlink=\"http://www.w3.org/1999/xlink\">\n",
       "<g id=\"graph0\" class=\"graph\" transform=\"scale(1 1) rotate(0) translate(4 256)\">\n",
       "<polygon fill=\"white\" stroke=\"none\" points=\"-4,4 -4,-256 202,-256 202,4 -4,4\"/>\n",
       "<!-- 0 -->\n",
       "<g id=\"node1\" class=\"node\">\n",
       "<title>0</title>\n",
       "<ellipse fill=\"none\" stroke=\"black\" cx=\"99\" cy=\"-18\" rx=\"27\" ry=\"18\"/>\n",
       "<text text-anchor=\"middle\" x=\"99\" y=\"-12.57\" font-family=\"Times New Roman,serif\" font-size=\"14.00\">0</text>\n",
       "</g>\n",
       "<!-- 1 -->\n",
       "<g id=\"node2\" class=\"node\">\n",
       "<title>1</title>\n",
       "<ellipse fill=\"none\" stroke=\"black\" cx=\"44\" cy=\"-90\" rx=\"27\" ry=\"18\"/>\n",
       "<text text-anchor=\"middle\" x=\"44\" y=\"-84.58\" font-family=\"Times New Roman,serif\" font-size=\"14.00\">1</text>\n",
       "</g>\n",
       "<!-- 1&#45;&#45;0 -->\n",
       "<g id=\"edge1\" class=\"edge\">\n",
       "<title>1&#45;&#45;0</title>\n",
       "<path fill=\"none\" stroke=\"black\" d=\"M56.21,-73.46C65.32,-61.86 77.72,-46.08 86.83,-34.49\"/>\n",
       "</g>\n",
       "<!-- 2 -->\n",
       "<g id=\"node3\" class=\"node\">\n",
       "<title>2</title>\n",
       "<ellipse fill=\"none\" stroke=\"black\" cx=\"154\" cy=\"-90\" rx=\"27\" ry=\"18\"/>\n",
       "<text text-anchor=\"middle\" x=\"154\" y=\"-84.58\" font-family=\"Times New Roman,serif\" font-size=\"14.00\">2</text>\n",
       "</g>\n",
       "<!-- 2&#45;&#45;0 -->\n",
       "<g id=\"edge2\" class=\"edge\">\n",
       "<title>2&#45;&#45;0</title>\n",
       "<path fill=\"none\" stroke=\"black\" d=\"M141.79,-73.46C132.68,-61.86 120.28,-46.08 111.17,-34.49\"/>\n",
       "</g>\n",
       "<!-- 3 -->\n",
       "<g id=\"node4\" class=\"node\">\n",
       "<title>3</title>\n",
       "<ellipse fill=\"none\" stroke=\"black\" cx=\"99\" cy=\"-162\" rx=\"27\" ry=\"18\"/>\n",
       "<text text-anchor=\"middle\" x=\"99\" y=\"-156.57\" font-family=\"Times New Roman,serif\" font-size=\"14.00\">3</text>\n",
       "</g>\n",
       "<!-- 3&#45;&#45;0 -->\n",
       "<g id=\"edge3\" class=\"edge\">\n",
       "<title>3&#45;&#45;0</title>\n",
       "<path fill=\"none\" stroke=\"black\" d=\"M99,-143.59C99,-116.19 99,-63.32 99,-36.11\"/>\n",
       "</g>\n",
       "<!-- 3&#45;&#45;1 -->\n",
       "<g id=\"edge4\" class=\"edge\">\n",
       "<title>3&#45;&#45;1</title>\n",
       "<path fill=\"none\" stroke=\"black\" d=\"M86.79,-145.46C77.68,-133.86 65.28,-118.08 56.17,-106.49\"/>\n",
       "</g>\n",
       "<!-- 3&#45;&#45;2 -->\n",
       "<g id=\"edge5\" class=\"edge\">\n",
       "<title>3&#45;&#45;2</title>\n",
       "<path fill=\"none\" stroke=\"black\" d=\"M111.21,-145.46C120.32,-133.86 132.72,-118.08 141.83,-106.49\"/>\n",
       "</g>\n",
       "<!-- 4 -->\n",
       "<g id=\"node5\" class=\"node\">\n",
       "<title>4</title>\n",
       "<ellipse fill=\"none\" stroke=\"black\" cx=\"171\" cy=\"-162\" rx=\"27\" ry=\"18\"/>\n",
       "<text text-anchor=\"middle\" x=\"171\" y=\"-156.57\" font-family=\"Times New Roman,serif\" font-size=\"14.00\">4</text>\n",
       "</g>\n",
       "<!-- 4&#45;&#45;2 -->\n",
       "<g id=\"edge6\" class=\"edge\">\n",
       "<title>4&#45;&#45;2</title>\n",
       "<path fill=\"none\" stroke=\"black\" d=\"M166.88,-144.05C164.25,-133.21 160.84,-119.18 158.2,-108.28\"/>\n",
       "</g>\n",
       "<!-- 5 -->\n",
       "<g id=\"node6\" class=\"node\">\n",
       "<title>5</title>\n",
       "<ellipse fill=\"none\" stroke=\"black\" cx=\"171\" cy=\"-234\" rx=\"27\" ry=\"18\"/>\n",
       "<text text-anchor=\"middle\" x=\"171\" y=\"-228.57\" font-family=\"Times New Roman,serif\" font-size=\"14.00\">5</text>\n",
       "</g>\n",
       "<!-- 5&#45;&#45;4 -->\n",
       "<g id=\"edge7\" class=\"edge\">\n",
       "<title>5&#45;&#45;4</title>\n",
       "<path fill=\"none\" stroke=\"black\" d=\"M171,-215.7C171,-204.85 171,-190.92 171,-180.1\"/>\n",
       "</g>\n",
       "<!-- 6 -->\n",
       "<g id=\"node7\" class=\"node\">\n",
       "<title>6</title>\n",
       "<ellipse fill=\"none\" stroke=\"black\" cx=\"27\" cy=\"-162\" rx=\"27\" ry=\"18\"/>\n",
       "<text text-anchor=\"middle\" x=\"27\" y=\"-156.57\" font-family=\"Times New Roman,serif\" font-size=\"14.00\">6</text>\n",
       "</g>\n",
       "<!-- 6&#45;&#45;1 -->\n",
       "<g id=\"edge8\" class=\"edge\">\n",
       "<title>6&#45;&#45;1</title>\n",
       "<path fill=\"none\" stroke=\"black\" d=\"M31.12,-144.05C33.75,-133.21 37.16,-119.18 39.8,-108.28\"/>\n",
       "</g>\n",
       "</g>\n",
       "</svg>\n"
      ],
      "text/plain": [
       "<graphviz.graphs.Graph at 0x29b30734490>"
      ]
     },
     "execution_count": 124,
     "metadata": {},
     "output_type": "execute_result"
    }
   ],
   "source": [
    "graphe2 = [[0,1,1,1,0,0,0],\n",
    "           [1,0,0,1,0,0,1],\n",
    "           [1,0,0,1,1,0,0],\n",
    "           [1,1,1,0,0,0,0],\n",
    "           [0,0,1,0,0,1,0],\n",
    "           [0,0,0,0,1,0,0],\n",
    "           [0,1,0,0,0,0,0]]\n",
    "\n",
    "noms_sommets_graphe2 = {0:\"Thomas\",1:\"Anne\",2:\"Romain\",3:\"Delphine\",4:\"Lucas\",5:\"Marie\",6:\"Tom\"}\n",
    "\n",
    "gdot2 = creation_graphe_graphviz(graphe2)\n",
    "\n",
    "print(degre(graphe2,4))\n",
    "\n",
    "#print(gdot2.source)\n",
    "gdot2\n"
   ]
  },
  {
   "attachments": {},
   "cell_type": "markdown",
   "metadata": {
    "id": "yDT5bRf6BnYR"
   },
   "source": [
    "## Coloration des sommets d'un graphe, sous la forme d'un dictionnaire, en utilisant l'algorithme de Welsh-Powell"
   ]
  },
  {
   "attachments": {},
   "cell_type": "markdown",
   "metadata": {},
   "source": [
    "### Fonction principale, pour la coloration de sommets"
   ]
  },
  {
   "attachments": {},
   "cell_type": "markdown",
   "metadata": {},
   "source": [
    "#### Fonction qui trie les sommets selon leur degré décroissant et qui retourne la liste des sommets ainsi triée"
   ]
  },
  {
   "cell_type": "code",
   "execution_count": 125,
   "metadata": {},
   "outputs": [],
   "source": [
    "def tri_sommets(g):\n",
    "    sommets_tries = []\n",
    "    degres_tries = []\n",
    "    for i in range(len(g)): #ajout nb degre\n",
    "        degres_tries.append(degre(g,i))\n",
    "        sommets_tries.append(i)\n",
    "    \n",
    "    for i in range(len(sommets_tries)):\n",
    "        for j in range(len(sommets_tries)):\n",
    "            if degres_tries[i]>degres_tries[j]:\n",
    "               degres_tries[i],degres_tries[j]= degres_tries[j],degres_tries[i]\n",
    "               sommets_tries[i],sommets_tries[j] = sommets_tries[j], sommets_tries[i]\n",
    "            elif degres_tries[i]==degres_tries[j] and sommets_tries[i]<sommets_tries[j]:\n",
    "               degres_tries[i],degres_tries[j]= degres_tries[j],degres_tries[i]\n",
    "               sommets_tries[i],sommets_tries[j] = sommets_tries[j], sommets_tries[i]\n",
    "\n",
    "    return sommets_tries,degres_tries"
   ]
  },
  {
   "cell_type": "code",
   "execution_count": 126,
   "metadata": {},
   "outputs": [
    {
     "name": "stdout",
     "output_type": "stream",
     "text": [
      "tri des sommets du graphe 1, selon leur degré décroissant\n",
      "([0, 1, 2, 3, 4, 5, 6], [3, 3, 3, 3, 2, 1, 1])\n"
     ]
    }
   ],
   "source": [
    "# test de la fonction tri_sommets\n",
    "print(\"tri des sommets du graphe 1, selon leur degré décroissant\")\n",
    "print(tri_sommets(graphe2))"
   ]
  },
  {
   "attachments": {},
   "cell_type": "markdown",
   "metadata": {},
   "source": [
    "#### Fonction qui fait la coloration de sommets avec l'algorithme de Welsh-Powell\n",
    "Le dictionnaire, retourné par la fonction, associe un numéro de couleur (clé du dictionnaire) et la liste des sommets de cette couleur (valeur du dictionnaire)."
   ]
  },
  {
   "cell_type": "code",
   "execution_count": 127,
   "metadata": {
    "id": "o5tEM1BiB2nN"
   },
   "outputs": [],
   "source": [
    "def coloration_sommets_welsh_powell(graphe):\n",
    "    \n",
    "    couleurs = {\"fuchsia\":[],\"aqua\":[],\"yellow\":[],\"blue\":[],\"red\":[],\"lime\":[],\"cyan\":[],\"grey\":[],\"darkorange\":[],\"burlywood\":[],\"purple\":[],\"darkgreen\":[]}\n",
    "    color_list=[\"fuchsia\",\"aqua\",\"yellow\",\"blue\",\"red\",\"lime\",\"cyan\",\"grey\",\"darkorange\",\"purple\",\"burlywood\",\"darkgreen\"]\n",
    "    \n",
    "    ordre_sommet = tri_sommets(graphe)[0]\n",
    "\n",
    "    for i in ordre_sommet:\n",
    "        couleur_actuel=0\n",
    "        for s in range(len(graphe[i])): #parcours sommets dans ordre\n",
    "            if graphe[i][s]==1 and s in couleurs[color_list[couleur_actuel]]: # si le sommet voisin est coloré et est lié 1, on passe à la couleur suivante\n",
    "                couleur_actuel+=1\n",
    "            \n",
    "        couleurs[color_list[couleur_actuel]].append(i)\n",
    "    return couleurs"
   ]
  },
  {
   "cell_type": "code",
   "execution_count": 128,
   "metadata": {
    "colab": {
     "base_uri": "https://localhost:8080/"
    },
    "id": "Q-zes9LUCA0p",
    "outputId": "cb89f18c-aa0c-460f-a6ed-a5b039f20d6e"
   },
   "outputs": [
    {
     "name": "stdout",
     "output_type": "stream",
     "text": [
      "coloration des sommets du graphe\n",
      "{'fuchsia': [0, 4, 6], 'aqua': [1, 2, 5], 'yellow': [3], 'blue': [], 'red': [], 'lime': [], 'cyan': [], 'grey': [], 'darkorange': [], 'burlywood': [], 'purple': [], 'darkgreen': []}\n"
     ]
    }
   ],
   "source": [
    "# test de la fonction coloration_sommets_welsh_powell\n",
    "print(\"coloration des sommets du graphe\")\n",
    "print(coloration_sommets_welsh_powell(graphe2))\n"
   ]
  },
  {
   "attachments": {},
   "cell_type": "markdown",
   "metadata": {},
   "source": [
    "#### Fonction qui affiche la coloration des sommets d'un graphe\n",
    "\n",
    "Reprenez la fonction `creation_graphe_graphviz(g)` et regardez le projet graphviz pour Python (https://pypi.org/project/graphviz/) pour afficher les couleurs des sommets sur le graphe (vous pouvez également regarder la page https://graphviz.org/doc/info/colors.html, pour avoir les noms de couleurs utilisables). \n",
    "Le graphe avec les sommets coloriés est obtenu à partir de `graphe`, le graphe de départ, et de `coloration`, le dictionnaire contenant la coloration des sommets (obtenu en résultat de la fonction `coloration_sommets_welsh_powell(graphe)`)."
   ]
  },
  {
   "cell_type": "code",
   "execution_count": 129,
   "metadata": {},
   "outputs": [],
   "source": [
    "def affichage_couleurs_sommets_graphviz(graphe, coloration):\n",
    "    # création d'un graphe non orienté, avec des sommets coloriés\n",
    "    dot_col_som = graphviz.Graph()\n",
    "    \n",
    "    #remplir matrice\n",
    "    dot_col_som=creation_graphe_graphviz(graphe)\n",
    "    #coloration\n",
    "    for couleur,sommets in coloration.items():\n",
    "        for i in sommets:\n",
    "            dot_col_som.node(str(i), style='filled', fillcolor=couleur)\n",
    "    return dot_col_som"
   ]
  },
  {
   "cell_type": "code",
   "execution_count": 130,
   "metadata": {},
   "outputs": [
    {
     "data": {
      "image/svg+xml": [
       "<?xml version=\"1.0\" encoding=\"UTF-8\" standalone=\"no\"?>\n",
       "<!DOCTYPE svg PUBLIC \"-//W3C//DTD SVG 1.1//EN\"\n",
       " \"http://www.w3.org/Graphics/SVG/1.1/DTD/svg11.dtd\">\n",
       "<!-- Generated by graphviz version 8.0.5 (20230430.1635)\n",
       " -->\n",
       "<!-- Pages: 1 -->\n",
       "<svg width=\"206pt\" height=\"260pt\"\n",
       " viewBox=\"0.00 0.00 206.00 260.00\" xmlns=\"http://www.w3.org/2000/svg\" xmlns:xlink=\"http://www.w3.org/1999/xlink\">\n",
       "<g id=\"graph0\" class=\"graph\" transform=\"scale(1 1) rotate(0) translate(4 256)\">\n",
       "<polygon fill=\"white\" stroke=\"none\" points=\"-4,4 -4,-256 202,-256 202,4 -4,4\"/>\n",
       "<!-- 0 -->\n",
       "<g id=\"node1\" class=\"node\">\n",
       "<title>0</title>\n",
       "<ellipse fill=\"fuchsia\" stroke=\"black\" cx=\"99\" cy=\"-18\" rx=\"27\" ry=\"18\"/>\n",
       "<text text-anchor=\"middle\" x=\"99\" y=\"-12.57\" font-family=\"Times New Roman,serif\" font-size=\"14.00\">0</text>\n",
       "</g>\n",
       "<!-- 1 -->\n",
       "<g id=\"node2\" class=\"node\">\n",
       "<title>1</title>\n",
       "<ellipse fill=\"aqua\" stroke=\"black\" cx=\"44\" cy=\"-90\" rx=\"27\" ry=\"18\"/>\n",
       "<text text-anchor=\"middle\" x=\"44\" y=\"-84.58\" font-family=\"Times New Roman,serif\" font-size=\"14.00\">1</text>\n",
       "</g>\n",
       "<!-- 1&#45;&#45;0 -->\n",
       "<g id=\"edge1\" class=\"edge\">\n",
       "<title>1&#45;&#45;0</title>\n",
       "<path fill=\"none\" stroke=\"black\" d=\"M56.21,-73.46C65.32,-61.86 77.72,-46.08 86.83,-34.49\"/>\n",
       "</g>\n",
       "<!-- 2 -->\n",
       "<g id=\"node3\" class=\"node\">\n",
       "<title>2</title>\n",
       "<ellipse fill=\"aqua\" stroke=\"black\" cx=\"154\" cy=\"-90\" rx=\"27\" ry=\"18\"/>\n",
       "<text text-anchor=\"middle\" x=\"154\" y=\"-84.58\" font-family=\"Times New Roman,serif\" font-size=\"14.00\">2</text>\n",
       "</g>\n",
       "<!-- 2&#45;&#45;0 -->\n",
       "<g id=\"edge2\" class=\"edge\">\n",
       "<title>2&#45;&#45;0</title>\n",
       "<path fill=\"none\" stroke=\"black\" d=\"M141.79,-73.46C132.68,-61.86 120.28,-46.08 111.17,-34.49\"/>\n",
       "</g>\n",
       "<!-- 3 -->\n",
       "<g id=\"node4\" class=\"node\">\n",
       "<title>3</title>\n",
       "<ellipse fill=\"yellow\" stroke=\"black\" cx=\"99\" cy=\"-162\" rx=\"27\" ry=\"18\"/>\n",
       "<text text-anchor=\"middle\" x=\"99\" y=\"-156.57\" font-family=\"Times New Roman,serif\" font-size=\"14.00\">3</text>\n",
       "</g>\n",
       "<!-- 3&#45;&#45;0 -->\n",
       "<g id=\"edge3\" class=\"edge\">\n",
       "<title>3&#45;&#45;0</title>\n",
       "<path fill=\"none\" stroke=\"black\" d=\"M99,-143.59C99,-116.19 99,-63.32 99,-36.11\"/>\n",
       "</g>\n",
       "<!-- 3&#45;&#45;1 -->\n",
       "<g id=\"edge4\" class=\"edge\">\n",
       "<title>3&#45;&#45;1</title>\n",
       "<path fill=\"none\" stroke=\"black\" d=\"M86.79,-145.46C77.68,-133.86 65.28,-118.08 56.17,-106.49\"/>\n",
       "</g>\n",
       "<!-- 3&#45;&#45;2 -->\n",
       "<g id=\"edge5\" class=\"edge\">\n",
       "<title>3&#45;&#45;2</title>\n",
       "<path fill=\"none\" stroke=\"black\" d=\"M111.21,-145.46C120.32,-133.86 132.72,-118.08 141.83,-106.49\"/>\n",
       "</g>\n",
       "<!-- 4 -->\n",
       "<g id=\"node5\" class=\"node\">\n",
       "<title>4</title>\n",
       "<ellipse fill=\"fuchsia\" stroke=\"black\" cx=\"171\" cy=\"-162\" rx=\"27\" ry=\"18\"/>\n",
       "<text text-anchor=\"middle\" x=\"171\" y=\"-156.57\" font-family=\"Times New Roman,serif\" font-size=\"14.00\">4</text>\n",
       "</g>\n",
       "<!-- 4&#45;&#45;2 -->\n",
       "<g id=\"edge6\" class=\"edge\">\n",
       "<title>4&#45;&#45;2</title>\n",
       "<path fill=\"none\" stroke=\"black\" d=\"M166.88,-144.05C164.25,-133.21 160.84,-119.18 158.2,-108.28\"/>\n",
       "</g>\n",
       "<!-- 5 -->\n",
       "<g id=\"node6\" class=\"node\">\n",
       "<title>5</title>\n",
       "<ellipse fill=\"aqua\" stroke=\"black\" cx=\"171\" cy=\"-234\" rx=\"27\" ry=\"18\"/>\n",
       "<text text-anchor=\"middle\" x=\"171\" y=\"-228.57\" font-family=\"Times New Roman,serif\" font-size=\"14.00\">5</text>\n",
       "</g>\n",
       "<!-- 5&#45;&#45;4 -->\n",
       "<g id=\"edge7\" class=\"edge\">\n",
       "<title>5&#45;&#45;4</title>\n",
       "<path fill=\"none\" stroke=\"black\" d=\"M171,-215.7C171,-204.85 171,-190.92 171,-180.1\"/>\n",
       "</g>\n",
       "<!-- 6 -->\n",
       "<g id=\"node7\" class=\"node\">\n",
       "<title>6</title>\n",
       "<ellipse fill=\"fuchsia\" stroke=\"black\" cx=\"27\" cy=\"-162\" rx=\"27\" ry=\"18\"/>\n",
       "<text text-anchor=\"middle\" x=\"27\" y=\"-156.57\" font-family=\"Times New Roman,serif\" font-size=\"14.00\">6</text>\n",
       "</g>\n",
       "<!-- 6&#45;&#45;1 -->\n",
       "<g id=\"edge8\" class=\"edge\">\n",
       "<title>6&#45;&#45;1</title>\n",
       "<path fill=\"none\" stroke=\"black\" d=\"M31.12,-144.05C33.75,-133.21 37.16,-119.18 39.8,-108.28\"/>\n",
       "</g>\n",
       "</g>\n",
       "</svg>\n"
      ],
      "text/plain": [
       "<graphviz.graphs.Graph at 0x29b30734880>"
      ]
     },
     "execution_count": 130,
     "metadata": {},
     "output_type": "execute_result"
    }
   ],
   "source": [
    "# test de la fonction affichage_couleurs_sommets_graphviz\n",
    "#print(affichage_couleurs_sommets_graphviz(graphe1,coloration_sommets_welsh_powell(graphe1)))\n",
    "affichage_couleurs_sommets_graphviz(graphe2,coloration_sommets_welsh_powell(graphe2))"
   ]
  },
  {
   "attachments": {},
   "cell_type": "markdown",
   "metadata": {},
   "source": [
    "### Fonctions intermédiaires, à compléter (vous pouvez en définir de nouvelles)"
   ]
  },
  {
   "attachments": {},
   "cell_type": "markdown",
   "metadata": {},
   "source": [
    "## Coloration des arêtes d'un graphes, sous la forme d'un dictionnaire, en utilisant l'algorithme de Welsh-Powell"
   ]
  },
  {
   "attachments": {},
   "cell_type": "markdown",
   "metadata": {},
   "source": [
    "### Fonctions intermédiaires, à compléter (vous pouvez en définir de nouvelles)"
   ]
  },
  {
   "attachments": {},
   "cell_type": "markdown",
   "metadata": {},
   "source": [
    "#### Fonction qui construit le graphe aux arêtes correspondant au graphe donné.\n",
    "Les noms des sommets, dans le graphe aux arêtes, sont des tuples contenant les 2 numéros de sommets composant l'arête. La fonction retourne à la fois la matrice correspondant au graphe aux arêtes (variable `g_aretes`) et le dictionnaire donnant la correspondance entre chaque numéro de sommet dans le graphe aux arêtes et le nom de l'arête qu'il représente (variable `dict_aretes`)."
   ]
  },
  {
   "cell_type": "code",
   "execution_count": 131,
   "metadata": {},
   "outputs": [],
   "source": [
    "def graphe_aux_aretes(graphe):\n",
    "    nb_arr = 0\n",
    "    g_aretes = graphe_vide(int(nb_aretes(graphe)))\n",
    "    dict_aretes = {}\n",
    "    #création dict_aretes\n",
    "    for i in range(len(graphe)):\n",
    "        for j in range(len(graphe[i])):\n",
    "            if graphe[i][j] == 1:\n",
    "                # check si arete pas déjà existante\n",
    "                if [i,j] and [j,i] not in dict_aretes.values():\n",
    "                    #effectue la création de l'arete\n",
    "                    nb_arr += 1\n",
    "                    nom_arr=\"e\"+str(nb_arr)\n",
    "                    dict_aretes[nom_arr] = [i,j]\n",
    "\n",
    "#{ a : [5,2] } dico[\"a\"]\n",
    "\n",
    "    #creation graphe arete\n",
    "    nb_arr = 0\n",
    "    nb_autre_arr = 0\n",
    "    for arete in dict_aretes.values():\n",
    "        nb_arr += 1\n",
    "        #regarde quel arete à les même sommets\n",
    "        for autre_arete in dict_aretes.values():\n",
    "            if nb_autre_arr<int(nb_aretes(graphe)): #si on est toujours dans la limite\n",
    "                nb_autre_arr+=1\n",
    "                if autre_arete!=arete: #si c'est pas la même\n",
    "                    if arete[0] in autre_arete or arete[1] in autre_arete: #sommet en commun\n",
    "                        g_aretes[nb_arr-1][nb_autre_arr-1]=1\n",
    "                        g_aretes[nb_autre_arr-1][nb_arr-1]=1\n",
    "            else:\n",
    "                nb_autre_arr=0\n",
    "    return (g_aretes, dict_aretes)"
   ]
  },
  {
   "cell_type": "code",
   "execution_count": 132,
   "metadata": {},
   "outputs": [
    {
     "name": "stdout",
     "output_type": "stream",
     "text": [
      "{'e1': [0, 2], 'e2': [0, 3], 'e3': [1, 2], 'e4': [1, 3], 'e5': [2, 3]}\n",
      "\n",
      "\n",
      "[0, 1, 1, 0, 1]\n",
      "[1, 0, 1, 1, 0]\n",
      "[1, 1, 1, 0, 1]\n",
      "[0, 1, 0, 0, 1]\n",
      "[1, 0, 1, 1, 1]\n"
     ]
    },
    {
     "data": {
      "image/svg+xml": [
       "<?xml version=\"1.0\" encoding=\"UTF-8\" standalone=\"no\"?>\n",
       "<!DOCTYPE svg PUBLIC \"-//W3C//DTD SVG 1.1//EN\"\n",
       " \"http://www.w3.org/Graphics/SVG/1.1/DTD/svg11.dtd\">\n",
       "<!-- Generated by graphviz version 8.0.5 (20230430.1635)\n",
       " -->\n",
       "<!-- Pages: 1 -->\n",
       "<svg width=\"148pt\" height=\"260pt\"\n",
       " viewBox=\"0.00 0.00 148.47 260.00\" xmlns=\"http://www.w3.org/2000/svg\" xmlns:xlink=\"http://www.w3.org/1999/xlink\">\n",
       "<g id=\"graph0\" class=\"graph\" transform=\"scale(1 1) rotate(0) translate(4 256)\">\n",
       "<polygon fill=\"white\" stroke=\"none\" points=\"-4,4 -4,-256 144.47,-256 144.47,4 -4,4\"/>\n",
       "<!-- e1 -->\n",
       "<g id=\"node1\" class=\"node\">\n",
       "<title>e1</title>\n",
       "<ellipse fill=\"none\" stroke=\"black\" cx=\"32.47\" cy=\"-18\" rx=\"27\" ry=\"18\"/>\n",
       "<text text-anchor=\"middle\" x=\"32.47\" y=\"-12.57\" font-family=\"Times New Roman,serif\" font-size=\"14.00\">e1</text>\n",
       "</g>\n",
       "<!-- e2 -->\n",
       "<g id=\"node2\" class=\"node\">\n",
       "<title>e2</title>\n",
       "<ellipse fill=\"none\" stroke=\"black\" cx=\"87.47\" cy=\"-90\" rx=\"27\" ry=\"18\"/>\n",
       "<text text-anchor=\"middle\" x=\"87.47\" y=\"-84.58\" font-family=\"Times New Roman,serif\" font-size=\"14.00\">e2</text>\n",
       "</g>\n",
       "<!-- e2&#45;&#45;e1 -->\n",
       "<g id=\"edge1\" class=\"edge\">\n",
       "<title>e2&#45;&#45;e1</title>\n",
       "<path fill=\"none\" stroke=\"black\" d=\"M75.27,-73.46C66.15,-61.86 53.75,-46.08 44.65,-34.49\"/>\n",
       "</g>\n",
       "<!-- e3 -->\n",
       "<g id=\"node3\" class=\"node\">\n",
       "<title>e3</title>\n",
       "<ellipse fill=\"none\" stroke=\"black\" cx=\"41.47\" cy=\"-162\" rx=\"27\" ry=\"18\"/>\n",
       "<text text-anchor=\"middle\" x=\"41.47\" y=\"-156.57\" font-family=\"Times New Roman,serif\" font-size=\"14.00\">e3</text>\n",
       "</g>\n",
       "<!-- e3&#45;&#45;e1 -->\n",
       "<g id=\"edge2\" class=\"edge\">\n",
       "<title>e3&#45;&#45;e1</title>\n",
       "<path fill=\"none\" stroke=\"black\" d=\"M40.37,-143.59C38.63,-116.19 35.28,-63.32 33.56,-36.11\"/>\n",
       "</g>\n",
       "<!-- e3&#45;&#45;e2 -->\n",
       "<g id=\"edge3\" class=\"edge\">\n",
       "<title>e3&#45;&#45;e2</title>\n",
       "<path fill=\"none\" stroke=\"black\" d=\"M51.91,-145.12C59.44,-133.66 69.56,-118.26 77.08,-106.82\"/>\n",
       "</g>\n",
       "<!-- e4 -->\n",
       "<g id=\"node4\" class=\"node\">\n",
       "<title>e4</title>\n",
       "<ellipse fill=\"none\" stroke=\"black\" cx=\"113.47\" cy=\"-162\" rx=\"27\" ry=\"18\"/>\n",
       "<text text-anchor=\"middle\" x=\"113.47\" y=\"-156.57\" font-family=\"Times New Roman,serif\" font-size=\"14.00\">e4</text>\n",
       "</g>\n",
       "<!-- e4&#45;&#45;e2 -->\n",
       "<g id=\"edge4\" class=\"edge\">\n",
       "<title>e4&#45;&#45;e2</title>\n",
       "<path fill=\"none\" stroke=\"black\" d=\"M107.18,-144.05C103.09,-133.05 97.79,-118.76 93.71,-107.79\"/>\n",
       "</g>\n",
       "<!-- e5 -->\n",
       "<g id=\"node5\" class=\"node\">\n",
       "<title>e5</title>\n",
       "<ellipse fill=\"none\" stroke=\"black\" cx=\"41.47\" cy=\"-234\" rx=\"27\" ry=\"18\"/>\n",
       "<text text-anchor=\"middle\" x=\"41.47\" y=\"-228.57\" font-family=\"Times New Roman,serif\" font-size=\"14.00\">e5</text>\n",
       "</g>\n",
       "<!-- e5&#45;&#45;e1 -->\n",
       "<g id=\"edge5\" class=\"edge\">\n",
       "<title>e5&#45;&#45;e1</title>\n",
       "<path fill=\"none\" stroke=\"black\" d=\"M27.72,-218.07C19.51,-208.1 9.85,-194.25 5.47,-180 -10.35,-128.53 12.18,-64.77 24.86,-35.32\"/>\n",
       "</g>\n",
       "<!-- e5&#45;&#45;e3 -->\n",
       "<g id=\"edge6\" class=\"edge\">\n",
       "<title>e5&#45;&#45;e3</title>\n",
       "<path fill=\"none\" stroke=\"black\" d=\"M41.47,-215.7C41.47,-204.85 41.47,-190.92 41.47,-180.1\"/>\n",
       "</g>\n",
       "<!-- e5&#45;&#45;e4 -->\n",
       "<g id=\"edge7\" class=\"edge\">\n",
       "<title>e5&#45;&#45;e4</title>\n",
       "<path fill=\"none\" stroke=\"black\" d=\"M56.39,-218.5C68.75,-206.48 86.22,-189.49 98.57,-177.49\"/>\n",
       "</g>\n",
       "</g>\n",
       "</svg>\n"
      ],
      "text/plain": [
       "<graphviz.graphs.Graph at 0x29b30483dc0>"
      ]
     },
     "execution_count": 132,
     "metadata": {},
     "output_type": "execute_result"
    }
   ],
   "source": [
    "# test de la fonction graphe_aux_aretes\n",
    "graphe_arr,dict_arr=graphe_aux_aretes(graphe1)\n",
    "print(dict_arr)\n",
    "print(\"\\n\")\n",
    "for i in graphe_arr:\n",
    "    print(i)\n",
    "\n",
    "\n",
    "#creation custom de graphe (nom de sommet 0 -> e1)\n",
    "got1_arr = graphviz.Graph()  \n",
    "for i in range(len(graphe_arr)):\n",
    "    got1_arr.node(\"e\"+str((i+1)))\n",
    "    \n",
    "for i in range(len(graphe_arr)):\n",
    "    for j in range(i):\n",
    "        if graphe_arr[i][j] == 1:\n",
    "            got1_arr.edge(\"e\"+str((i+1)), \"e\"+str((j+1)))\n",
    "\n",
    "\n",
    "#affichage du graphe\n",
    "got1_arr"
   ]
  },
  {
   "attachments": {},
   "cell_type": "markdown",
   "metadata": {},
   "source": [
    "### Fonction principale, pour la coloration d'arêtes"
   ]
  },
  {
   "attachments": {},
   "cell_type": "markdown",
   "metadata": {},
   "source": [
    "#### Fonction qui fait la coloration d'arêtes, avec l'algorithme de Welsh-Powell\n",
    "\n",
    "Le dictionnaire, retourné par la fonction, associe un numéro de couleur (clé du dictionnaire) et la liste des arêtes de cette couleur (valeur du dictionnaire). Une arête est définie par un tuple contenant les 2 numéros de sommets composant l'arête."
   ]
  },
  {
   "cell_type": "code",
   "execution_count": 133,
   "metadata": {},
   "outputs": [],
   "source": [
    "def coloration_aretes_welsh_powell(graphe):\n",
    "    couleurs = {\"fuchsia\":[],\"aqua\":[],\"yellow\":[],\"blue\":[],\"red\":[],\"lime\":[],\"cyan\":[],\"grey\":[],\"darkorange\":[],\"burlywood\":[],\"purple\":[],\"darkgreen\":[]}\n",
    "\n",
    "    graphe_arr,dict = graphe_aux_aretes(graphe)\n",
    "\n",
    "\n",
    "    for arete_a_color in range(len(graphe_arr)): #on explore chaque arête\n",
    "        arete_a_color_nom = \"e\"+str(arete_a_color+1)\n",
    "        couleurs_potentiel=[]\n",
    "        for arete_voisine in range(len(graphe_arr[arete_a_color])): #on explore leurs liens\n",
    "            arete_voisine_nom = \"e\"+str(arete_voisine+1)\n",
    "            if dict[arete_a_color_nom][0] in dict[arete_voisine_nom] or dict[arete_a_color_nom][1] in dict[arete_voisine_nom]: #si il y a un sommet identique pour les deux\n",
    "                for couleur,membres in couleurs.items():\n",
    "                    if arete_voisine_nom not in membres: #si la couleur n'est pas probable, on l'ajoute car l'arete voisine ne l'a pas\n",
    "                        if couleur not in couleurs_potentiel:\n",
    "                            couleurs_potentiel.append(couleur)\n",
    "                    elif arete_voisine_nom in membres: #si la couleur est pas probable, on la retire car l'arete voisine l'a déjà\n",
    "                        if couleur in couleurs_potentiel:\n",
    "                            couleurs_potentiel.remove(couleur)\n",
    "    \n",
    "        for color in couleurs_potentiel: #on assigne l'arete a la premiere des couleurs potentiels\n",
    "            couleurs[color].append(arete_a_color_nom)\n",
    "            print(arete_a_color_nom,\"est\",color)\n",
    "            break\n",
    "    return couleurs"
   ]
  },
  {
   "cell_type": "code",
   "execution_count": 134,
   "metadata": {},
   "outputs": [
    {
     "name": "stdout",
     "output_type": "stream",
     "text": [
      "e1 est fuchsia\n",
      "e2 est aqua\n",
      "e3 est yellow\n",
      "e4 est aqua\n",
      "e5 est yellow\n",
      "e6 est fuchsia\n",
      "e7 est yellow\n",
      "e8 est fuchsia\n",
      "{'fuchsia': ['e1', 'e6', 'e8'], 'aqua': ['e2', 'e4'], 'yellow': ['e3', 'e5', 'e7'], 'blue': [], 'red': [], 'lime': [], 'cyan': [], 'grey': [], 'darkorange': [], 'burlywood': [], 'purple': [], 'darkgreen': []}\n"
     ]
    }
   ],
   "source": [
    "# test de la fonction coloration_aretes_welsh_powell\n",
    "print(coloration_aretes_welsh_powell(graphe2))"
   ]
  },
  {
   "attachments": {},
   "cell_type": "markdown",
   "metadata": {},
   "source": [
    "#### Fonction qui affiche la coloration des arêtes d'un graphe\n",
    "\n",
    "Reprenez la fonction `creation_graphe_graphviz(g)` et regardez le projet graphviz pour Python (https://pypi.org/project/graphviz/) pour afficher les couleurs des arêtes sur le graphe (vous pouvez également regarder la page https://graphviz.org/doc/info/colors.html, pour avoir les noms de couleurs utilisables). \n",
    "Le graphe avec les arêtes coloriées est obtenu à partir de `graphe`, le graphe de départ, et de `coloration`, la coloration des arêtes donnée sous la forme d'un dictionnaire (obtenu en résultat de la fonction `coloration_aretes_welsh_powell(graphe)`)."
   ]
  },
  {
   "cell_type": "code",
   "execution_count": 135,
   "metadata": {},
   "outputs": [],
   "source": [
    "\n",
    "\n",
    "def affichage_couleurs_aretes_graphviz(graphe, coloration):\n",
    "    # création d'un graphe non orienté, avec des arêtes coloriés\n",
    "    dot_col_aretes = graphviz.Graph()\n",
    "    _,dict = graphe_aux_aretes(graphe)\n",
    "\n",
    "    for i in range(len(graphe)):\n",
    "        dot_col_aretes.node(str(i))\n",
    "    \n",
    "    #regarde quel couleurs potentiel\n",
    "    nb_arr=0\n",
    "    for arr in dict.values():\n",
    "        nb_arr+=1\n",
    "        for color in coloration:\n",
    "            for arete in coloration[color]:\n",
    "                if arete==\"e\"+str(nb_arr):\n",
    "                    print(\"e\"+str(nb_arr),\"(\"+str(arr[0]),str(arr[1])+\")\",\"est de couleur\",color)\n",
    "                    dot_col_aretes.edge(str(arr[0]), str(arr[1]), style='filled', color=color)\n",
    "                    break\n",
    "\n",
    "    return dot_col_aretes"
   ]
  },
  {
   "cell_type": "code",
   "execution_count": 136,
   "metadata": {},
   "outputs": [
    {
     "name": "stdout",
     "output_type": "stream",
     "text": [
      "e1 est fuchsia\n",
      "e2 est aqua\n",
      "e3 est yellow\n",
      "e4 est aqua\n",
      "e5 est yellow\n",
      "e6 est fuchsia\n",
      "e7 est yellow\n",
      "e8 est fuchsia\n",
      "e1 (0 1) est de couleur fuchsia\n",
      "e2 (0 2) est de couleur aqua\n",
      "e3 (0 3) est de couleur yellow\n",
      "e4 (1 3) est de couleur aqua\n",
      "e5 (1 6) est de couleur yellow\n",
      "e6 (2 3) est de couleur fuchsia\n",
      "e7 (2 4) est de couleur yellow\n",
      "e8 (4 5) est de couleur fuchsia\n"
     ]
    },
    {
     "data": {
      "image/svg+xml": [
       "<?xml version=\"1.0\" encoding=\"UTF-8\" standalone=\"no\"?>\n",
       "<!DOCTYPE svg PUBLIC \"-//W3C//DTD SVG 1.1//EN\"\n",
       " \"http://www.w3.org/Graphics/SVG/1.1/DTD/svg11.dtd\">\n",
       "<!-- Generated by graphviz version 8.0.5 (20230430.1635)\n",
       " -->\n",
       "<!-- Pages: 1 -->\n",
       "<svg width=\"206pt\" height=\"260pt\"\n",
       " viewBox=\"0.00 0.00 206.00 260.00\" xmlns=\"http://www.w3.org/2000/svg\" xmlns:xlink=\"http://www.w3.org/1999/xlink\">\n",
       "<g id=\"graph0\" class=\"graph\" transform=\"scale(1 1) rotate(0) translate(4 256)\">\n",
       "<polygon fill=\"white\" stroke=\"none\" points=\"-4,4 -4,-256 202,-256 202,4 -4,4\"/>\n",
       "<!-- 0 -->\n",
       "<g id=\"node1\" class=\"node\">\n",
       "<title>0</title>\n",
       "<ellipse fill=\"none\" stroke=\"black\" cx=\"99\" cy=\"-234\" rx=\"27\" ry=\"18\"/>\n",
       "<text text-anchor=\"middle\" x=\"99\" y=\"-228.57\" font-family=\"Times New Roman,serif\" font-size=\"14.00\">0</text>\n",
       "</g>\n",
       "<!-- 1 -->\n",
       "<g id=\"node2\" class=\"node\">\n",
       "<title>1</title>\n",
       "<ellipse fill=\"none\" stroke=\"black\" cx=\"44\" cy=\"-162\" rx=\"27\" ry=\"18\"/>\n",
       "<text text-anchor=\"middle\" x=\"44\" y=\"-156.57\" font-family=\"Times New Roman,serif\" font-size=\"14.00\">1</text>\n",
       "</g>\n",
       "<!-- 0&#45;&#45;1 -->\n",
       "<g id=\"edge1\" class=\"edge\">\n",
       "<title>0&#45;&#45;1</title>\n",
       "<path fill=\"none\" stroke=\"fuchsia\" d=\"M86.79,-217.46C77.68,-205.86 65.28,-190.08 56.17,-178.49\"/>\n",
       "</g>\n",
       "<!-- 2 -->\n",
       "<g id=\"node3\" class=\"node\">\n",
       "<title>2</title>\n",
       "<ellipse fill=\"none\" stroke=\"black\" cx=\"154\" cy=\"-162\" rx=\"27\" ry=\"18\"/>\n",
       "<text text-anchor=\"middle\" x=\"154\" y=\"-156.57\" font-family=\"Times New Roman,serif\" font-size=\"14.00\">2</text>\n",
       "</g>\n",
       "<!-- 0&#45;&#45;2 -->\n",
       "<g id=\"edge2\" class=\"edge\">\n",
       "<title>0&#45;&#45;2</title>\n",
       "<path fill=\"none\" stroke=\"aqua\" d=\"M111.21,-217.46C120.32,-205.86 132.72,-190.08 141.83,-178.49\"/>\n",
       "</g>\n",
       "<!-- 3 -->\n",
       "<g id=\"node4\" class=\"node\">\n",
       "<title>3</title>\n",
       "<ellipse fill=\"none\" stroke=\"black\" cx=\"99\" cy=\"-90\" rx=\"27\" ry=\"18\"/>\n",
       "<text text-anchor=\"middle\" x=\"99\" y=\"-84.58\" font-family=\"Times New Roman,serif\" font-size=\"14.00\">3</text>\n",
       "</g>\n",
       "<!-- 0&#45;&#45;3 -->\n",
       "<g id=\"edge3\" class=\"edge\">\n",
       "<title>0&#45;&#45;3</title>\n",
       "<path fill=\"none\" stroke=\"yellow\" d=\"M99,-215.59C99,-188.19 99,-135.32 99,-108.11\"/>\n",
       "</g>\n",
       "<!-- 1&#45;&#45;3 -->\n",
       "<g id=\"edge4\" class=\"edge\">\n",
       "<title>1&#45;&#45;3</title>\n",
       "<path fill=\"none\" stroke=\"aqua\" d=\"M56.21,-145.46C65.32,-133.86 77.72,-118.08 86.83,-106.49\"/>\n",
       "</g>\n",
       "<!-- 6 -->\n",
       "<g id=\"node7\" class=\"node\">\n",
       "<title>6</title>\n",
       "<ellipse fill=\"none\" stroke=\"black\" cx=\"27\" cy=\"-90\" rx=\"27\" ry=\"18\"/>\n",
       "<text text-anchor=\"middle\" x=\"27\" y=\"-84.58\" font-family=\"Times New Roman,serif\" font-size=\"14.00\">6</text>\n",
       "</g>\n",
       "<!-- 1&#45;&#45;6 -->\n",
       "<g id=\"edge5\" class=\"edge\">\n",
       "<title>1&#45;&#45;6</title>\n",
       "<path fill=\"none\" stroke=\"yellow\" d=\"M39.88,-144.05C37.25,-133.21 33.84,-119.18 31.2,-108.28\"/>\n",
       "</g>\n",
       "<!-- 2&#45;&#45;3 -->\n",
       "<g id=\"edge6\" class=\"edge\">\n",
       "<title>2&#45;&#45;3</title>\n",
       "<path fill=\"none\" stroke=\"fuchsia\" d=\"M141.79,-145.46C132.68,-133.86 120.28,-118.08 111.17,-106.49\"/>\n",
       "</g>\n",
       "<!-- 4 -->\n",
       "<g id=\"node5\" class=\"node\">\n",
       "<title>4</title>\n",
       "<ellipse fill=\"none\" stroke=\"black\" cx=\"171\" cy=\"-90\" rx=\"27\" ry=\"18\"/>\n",
       "<text text-anchor=\"middle\" x=\"171\" y=\"-84.58\" font-family=\"Times New Roman,serif\" font-size=\"14.00\">4</text>\n",
       "</g>\n",
       "<!-- 2&#45;&#45;4 -->\n",
       "<g id=\"edge7\" class=\"edge\">\n",
       "<title>2&#45;&#45;4</title>\n",
       "<path fill=\"none\" stroke=\"yellow\" d=\"M158.12,-144.05C160.75,-133.21 164.16,-119.18 166.8,-108.28\"/>\n",
       "</g>\n",
       "<!-- 5 -->\n",
       "<g id=\"node6\" class=\"node\">\n",
       "<title>5</title>\n",
       "<ellipse fill=\"none\" stroke=\"black\" cx=\"171\" cy=\"-18\" rx=\"27\" ry=\"18\"/>\n",
       "<text text-anchor=\"middle\" x=\"171\" y=\"-12.57\" font-family=\"Times New Roman,serif\" font-size=\"14.00\">5</text>\n",
       "</g>\n",
       "<!-- 4&#45;&#45;5 -->\n",
       "<g id=\"edge8\" class=\"edge\">\n",
       "<title>4&#45;&#45;5</title>\n",
       "<path fill=\"none\" stroke=\"fuchsia\" d=\"M171,-71.7C171,-60.85 171,-46.92 171,-36.1\"/>\n",
       "</g>\n",
       "</g>\n",
       "</svg>\n"
      ],
      "text/plain": [
       "<graphviz.graphs.Graph at 0x29b2983bd30>"
      ]
     },
     "execution_count": 136,
     "metadata": {},
     "output_type": "execute_result"
    }
   ],
   "source": [
    "# test de la fonction affichage_couleurs_aretes_graphviz\n",
    "coloration = coloration_aretes_welsh_powell(graphe2)\n",
    "affichage_couleurs_aretes_graphviz(graphe2,coloration)\n"
   ]
  },
  {
   "attachments": {},
   "cell_type": "markdown",
   "metadata": {},
   "source": [
    "## Résolution de problèmes de plannings à l'aide de la coloration de graphes"
   ]
  },
  {
   "attachments": {},
   "cell_type": "markdown",
   "metadata": {},
   "source": [
    "### Fonctions intermédiaires, à compléter (vous pouvez en définir de nouvelles)"
   ]
  },
  {
   "attachments": {},
   "cell_type": "markdown",
   "metadata": {},
   "source": [
    "#### Affichage du planning donné par le dictionnaire `dico_planning`\n",
    "Les clés du dictionnaire correspondent aux noms des créneaux et les valeurs aux événements ayant lieu durant chaque créneau."
   ]
  },
  {
   "cell_type": "code",
   "execution_count": 137,
   "metadata": {},
   "outputs": [],
   "source": [
    "def affichage_planning(dico_planning:int):\n",
    "    #à completer\n",
    "    return"
   ]
  },
  {
   "cell_type": "code",
   "execution_count": 138,
   "metadata": {},
   "outputs": [],
   "source": [
    "# test de la fonction affichage_planning"
   ]
  },
  {
   "attachments": {},
   "cell_type": "markdown",
   "metadata": {},
   "source": [
    "### Fonctions principales, pour la création de plannings à l'aide de la coloration de graphes"
   ]
  },
  {
   "attachments": {},
   "cell_type": "markdown",
   "metadata": {},
   "source": [
    "#### Fonction qui crée un planning de rattrapage des examens, à partir du graphe `graphe`, définissant les incompatibilités entre les examens (c'est-à-dire les examens ne pouvant pas avoir lieu en même temps)\n",
    "`noms_sommets` correspond aux noms des sommets (c'est-à-dire des examens) et `noms_couleurs` correspond aux noms des couleurs (c'est-à-dire le nom des créneaux horaires à considérer dans le planning), pour pouvoir donner le planning en fonction de ces informations (au lieu de conserver les numéros de sommets et les numéros des couleurs)."
   ]
  },
  {
   "cell_type": "code",
   "execution_count": 139,
   "metadata": {},
   "outputs": [],
   "source": [
    "def creation_planning_rattrapages(graphe, noms_sommets, noms_couleurs):\n",
    "    planning = {}\n",
    "    cle=0\n",
    "    repart_mat=coloration_sommets_welsh_powell(graphe)\n",
    "    print(repart_mat)\n",
    "    for color in repart_mat.keys():\n",
    "        cle+=1\n",
    "        planning[noms_couleurs[cle-1]]=[]\n",
    "        for mat in repart_mat[color]:\n",
    "                planning[noms_couleurs[cle-1]].append(noms_sommets[mat])\n",
    "    return planning"
   ]
  },
  {
   "cell_type": "code",
   "execution_count": 140,
   "metadata": {},
   "outputs": [
    {
     "name": "stdout",
     "output_type": "stream",
     "text": [
      "{'fuchsia': [0, 8, 6, 2], 'aqua': [1, 4, 7, 3], 'yellow': [5], 'blue': [], 'red': [], 'lime': [], 'cyan': [], 'grey': [], 'darkorange': [], 'burlywood': [], 'purple': [], 'darkgreen': []}\n"
     ]
    },
    {
     "data": {
      "text/plain": [
       "{'lundi matin': ['Cor ', 'SSLM', 'RL  ', 'AAL '],\n",
       " 'lundi après-midi': ['DLIL', 'FT  ', 'TA  ', 'AAC '],\n",
       " 'mardi matin': ['RSL '],\n",
       " 'mardi après-midi': [],\n",
       " 'mercredi matin': [],\n",
       " 'mercredi après-midi': [],\n",
       " 'jeudi matin': [],\n",
       " 'jeudi après-midi': [],\n",
       " 'vendredi matin': [],\n",
       " 'vendredi après-midi': [],\n",
       " 'samedi matin': [],\n",
       " 'samedi après-midi': []}"
      ]
     },
     "execution_count": 140,
     "metadata": {},
     "output_type": "execute_result"
    }
   ],
   "source": [
    "# test de la fonction creation_planning_rattrapages et affichage du planning obtenu*\n",
    "creation_planning_rattrapages(graphe_rattrapage,matiere_nom_rattrapage,creneaux_nom_rattrapage)"
   ]
  },
  {
   "attachments": {},
   "cell_type": "markdown",
   "metadata": {},
   "source": [
    "#### Fonction qui crée un planning de *job dating*, à partir du graphe `graphe`, définissant les liens entre les étudiants et les entreprises choisies par eux\n",
    "`noms_sommets` correspond aux noms des  (c'est-à-dire des étudiants et des entreprises) et `noms_couleurs` correspond aux noms des couleurs (c'est-à-dire le nom des créneaux horaires à considérer dans le planning), pour pouvoir donner le planning en fonction de ces informations (au lieu de conserver les numéros de sommets et les numéros des couleurs)."
   ]
  },
  {
   "cell_type": "code",
   "execution_count": 141,
   "metadata": {},
   "outputs": [],
   "source": [
    "def creation_planning_job_dating(graphe, noms_sommets, noms_couleurs):\n",
    "    planning = {}\n",
    "    return planning"
   ]
  },
  {
   "cell_type": "code",
   "execution_count": 142,
   "metadata": {},
   "outputs": [],
   "source": [
    "# test de la fonction creation_planning_job_dating et affichage du planning obtenu"
   ]
  },
  {
   "attachments": {},
   "cell_type": "markdown",
   "metadata": {},
   "source": [
    "#### Fonction qui crée un planning des matchs de badminton d'une journée de championnat, à partir du graphe `graphe`, représentant les incompatibilités entre les matchs (c'est-à-dire les matchs qui ne peuvent pas être joués en même temps car ils comportent un joueur commun)\n",
    "`noms_sommets` correspond aux noms des sommets (c'est-à-dire des matches) et `noms_couleurs` correspond aux noms des couleurs (c'est-à-dire le nom des créneaux horaires à considérer dans le planning), pour pouvoir donner le planning en fonction de ces informations (au lieu de conserver les numéros de sommets et les numéros des couleurs)."
   ]
  },
  {
   "cell_type": "code",
   "execution_count": 143,
   "metadata": {},
   "outputs": [],
   "source": [
    "def creation_planning_badminton(graphe, noms_sommets, noms_couleurs):\n",
    "    planning={}\n",
    "    return planning"
   ]
  },
  {
   "cell_type": "code",
   "execution_count": 144,
   "metadata": {},
   "outputs": [],
   "source": [
    "# test de la fonction creation_planning_badminton et affichage du planning obtenu"
   ]
  },
  {
   "attachments": {},
   "cell_type": "markdown",
   "metadata": {},
   "source": [
    "### Utilisation des fonctions précédentes pour résoudre les problèmes associés, à partir de graphes à construire\n",
    "A remplir à partir des exemples donnés dans le sujet de SAE."
   ]
  },
  {
   "attachments": {},
   "cell_type": "markdown",
   "metadata": {},
   "source": [
    "#### Organisation de rattrapages d'examens"
   ]
  },
  {
   "cell_type": "code",
   "execution_count": 145,
   "metadata": {},
   "outputs": [
    {
     "name": "stdout",
     "output_type": "stream",
     "text": [
      "============================ matière compatible ============================\n",
      "Cor  ['----', 'DLIL', '----', 'AAC ', 'FT  ', 'RSL ', '----', 'TA  ', '----']\n",
      "DLIL ['Cor ', '----', 'AAL ', '----', '----', 'RSL ', 'RL  ', '----', 'SSLM']\n",
      "AAL  ['----', 'DLIL', '----', '----', '----', 'RSL ', '----', '----', '----']\n",
      "AAC  ['Cor ', '----', '----', '----', '----', '----', '----', '----', 'SSLM']\n",
      "FT   ['Cor ', '----', '----', '----', '----', 'RSL ', 'RL  ', '----', 'SSLM']\n",
      "RSL  ['Cor ', 'DLIL', 'AAL ', '----', 'FT  ', '----', '----', 'TA  ', '----']\n",
      "RL   ['----', 'DLIL', '----', '----', 'FT  ', '----', '----', 'TA  ', '----']\n",
      "TA   ['Cor ', '----', '----', '----', '----', 'RSL ', 'RL  ', '----', 'SSLM']\n",
      "SSLM ['----', 'DLIL', '----', 'AAC ', 'FT  ', '----', '----', 'TA  ', '----']\n"
     ]
    }
   ],
   "source": [
    "creneaux_nom_rattrapage = [\"lundi matin\",\"lundi après-midi\",\"mardi matin\",\"mardi après-midi\",\"mercredi matin\",\"mercredi après-midi\",\"jeudi matin\",\"jeudi après-midi\",\"vendredi matin\",\"vendredi après-midi\",\"samedi matin\",\"samedi après-midi\",\"dimanche matin\",\"dimanche après-midi\"]\n",
    "matiere_nom_rattrapage = [\"Cor\",\"DLIL\",\"AAL\",\"AAC\",\"FT\",\"RSL\",\"RL\",\"TA\",\"SSLM\"]\n",
    "table_rattrapage=[[1,0,1,0,0,0,1,0,1],[0,1,0,1,1,0,0,0,0],[0,1,0,1,1,0,0,1,0],[0,0,1,1,1,0,0,1,0],[0,0,0,1,0,1,1,0,0],[0,0,0,0,0,1,0,0,1]]\n",
    "\n",
    "#création graphe avec que des 1 (toutes matieres compatibles entre elles)\n",
    "graphe_rattrapage = graphe_vide(len(table_rattrapage[0]))\n",
    "for i in range(len(graphe_rattrapage)):\n",
    "       for j in range(len(graphe_rattrapage[i])):\n",
    "              if i==j: #on exclus le cours lui même\n",
    "                     graphe_rattrapage[i][j]=0\n",
    "              else:\n",
    "                     graphe_rattrapage[i][j]=1\n",
    "#\n",
    "#gestion des cours impossibles car au même créneaux\n",
    "for etu_rattrapage in table_rattrapage:\n",
    "       for matiere_rattrapage in range(len(etu_rattrapage)): #on regarde les matière pour une ligne\n",
    "              if etu_rattrapage[matiere_rattrapage]==1:\n",
    "                     liste_matiere_incompatible=[]\n",
    "                     for matiere_rattrapage_autre in range(len(etu_rattrapage)): #on regarde ou ya des 1 sur la même ligne (et si c'est pas lui même)\n",
    "                            if matiere_rattrapage_autre!=matiere_rattrapage: #si c'est pas lui même\n",
    "                                   if etu_rattrapage[matiere_rattrapage_autre]==1: #si il y a un 1, alors elle ne sont pas compatible\n",
    "                                        liste_matiere_incompatible.append(matiere_rattrapage_autre)\n",
    "                                        graphe_rattrapage[matiere_rattrapage][matiere_rattrapage_autre]=0\n",
    "                                        graphe_rattrapage[matiere_rattrapage_autre][matiere_rattrapage]=0\n",
    "#\n",
    "print(\"============================ matière compatible ============================\")\n",
    "#alignement \n",
    "for i in range(len(matiere_nom_rattrapage)):\n",
    "       if len(matiere_nom_rattrapage[i])<4:\n",
    "            for _ in range(len(matiere_nom_rattrapage[i]),4):\n",
    "              matiere_nom_rattrapage[i]+=\" \"\n",
    "#\n",
    "#affichage compatibilité matières\n",
    "for i in range(len(graphe_rattrapage)):\n",
    "       ligne=[]\n",
    "       for j in range(len(graphe_rattrapage[i])):\n",
    "              if graphe_rattrapage[i][j]==1:\n",
    "                    ligne.append(matiere_nom_rattrapage[j])\n",
    "              else:\n",
    "                    ligne.append(\"----\")\n",
    "       print(matiere_nom_rattrapage[i],ligne)\n",
    "#\n",
    "\n",
    "\n"
   ]
  },
  {
   "attachments": {},
   "cell_type": "markdown",
   "metadata": {},
   "source": [
    "#### Organisation de sessions de *job meeting*"
   ]
  },
  {
   "cell_type": "code",
   "execution_count": 146,
   "metadata": {},
   "outputs": [
    {
     "name": "stdout",
     "output_type": "stream",
     "text": [
      "===========================planning final=======================\n",
      "Etu1 {'12h00': ['Entp1', 'Entp3', 'Entp7', 'Entp9'], 'aucun': ['Entp2', 'Entp4', 'Entp5', 'Entp6', 'Entp8']}\n",
      "Etu2 {'aucun': ['Entp1', 'Entp3', 'Entp6', 'Entp7', 'Entp9'], '12h00': ['Entp2', 'Entp4', 'Entp5', 'Entp8']}\n",
      "Etu3 {'aucun': ['Entp1', 'Entp3', 'Entp6', 'Entp7', 'Entp9'], '12h20': ['Entp2', 'Entp4', 'Entp5', 'Entp8']}\n",
      "Etu4 {'aucun': ['Entp1', 'Entp2', 'Entp6', 'Entp7', 'Entp9'], '12h20': ['Entp3'], '12h40': ['Entp4', 'Entp5', 'Entp8']}\n",
      "Etu5 {'aucun': ['Entp1', 'Entp2', 'Entp3', 'Entp5', 'Entp8', 'Entp9'], '13h00': ['Entp4'], '12h00': ['Entp6'], '12h20': ['Entp7']}\n",
      "Etu6 {'12h20': ['Entp1', 'Entp6', 'Entp9'], 'aucun': ['Entp2', 'Entp3', 'Entp4', 'Entp5', 'Entp7', 'Entp8']}\n",
      "Etu7 {'12h40': ['Entp1', 'Entp3'], 'aucun': ['Entp2', 'Entp4', 'Entp5', 'Entp6', 'Entp7', 'Entp8', 'Entp9']}\n",
      "Etu8 {'aucun': ['Entp1', 'Entp3', 'Entp5', 'Entp7', 'Entp8'], '12h40': ['Entp2', 'Entp6', 'Entp9'], '13h20': ['Entp4']}\n",
      "Etu9 {'13h00': ['Entp1', 'Entp5'], 'aucun': ['Entp2', 'Entp3', 'Entp4', 'Entp6', 'Entp7', 'Entp8', 'Entp9']}\n",
      "Etu10 {'aucun': ['Entp1', 'Entp3', 'Entp5', 'Entp8', 'Entp9'], '13h00': ['Entp2', 'Entp6'], '13h40': ['Entp4'], '12h40': ['Entp7']}\n",
      "Etu11 {'13h20': ['Entp1', 'Entp6'], 'aucun': ['Entp2', 'Entp4', 'Entp5', 'Entp7', 'Entp8', 'Entp9'], '13h00': ['Entp3']}\n",
      "Etu12 {'aucun': ['Entp1', 'Entp3', 'Entp4', 'Entp6', 'Entp8'], '13h20': ['Entp2', 'Entp5'], '13h00': ['Entp7', 'Entp9']}\n"
     ]
    }
   ],
   "source": [
    "creneaux_nom_entreprises = []\n",
    "etudiant_nom_entreprises = []\n",
    "entreprise_nom_entreprises = []\n",
    "table_etudiant=[[1,0,1,0,0,0,1,0,1],[0,1,0,1,1,0,0,1,0],[0,1,0,1,1,0,0,1,0],[0,0,1,1,1,0,0,1,0],[0,0,0,1,0,1,1,0,0],[1,0,0,0,0,1,0,0,1],[1,0,1,0,0,0,0,0,0],[0,1,0,1,0,1,0,0,1],[1,0,0,0,1,0,0,0,0],[0,1,0,1,0,1,1,0,0],[1,0,1,0,0,1,0,0,0],[0,1,0,0,1,0,1,0,1]]\n",
    "#réalisation automatique des creneaux (12h-18h)\n",
    "for i in range(6):\n",
    "      for j in range(3):\n",
    "             if j==0:\n",
    "                   creneaux_nom_entreprises.append(str(12+i)+\"h00\")\n",
    "             else:\n",
    "                   creneaux_nom_entreprises.append(str(12+i)+\"h\"+str(j*20))\n",
    "#\n",
    "\n",
    "#réalisation automatique des nom d'etudiants\n",
    "for i in range(1,len(table_etudiant)+1):\n",
    "      etudiant_nom_entreprises.append(\"Etu\"+str(i))\n",
    "\n",
    "#réalisation automatique des nom d'entreprise\n",
    "for i in range(1,len(table_etudiant[0])+1):\n",
    "      entreprise_nom_entreprises.append(\"Entp\"+str(i))\n",
    "\n",
    "########################################création planning mais sans graphe et sans coloration car plus efficace\n",
    "\n",
    "creneaux_entreprise_dispo={}\n",
    "planning_etudiant={}\n",
    "planning_entreprise={}\n",
    "#initialisation\n",
    "for entreprise in entreprise_nom_entreprises:\n",
    "      creneaux_entreprise_dispo[entreprise]=creneaux_nom_entreprises.copy()\n",
    "      planning_entreprise[entreprise]=[]\n",
    "\n",
    "#association avec étudiant\n",
    "for etudiant_meeting in range(len(table_etudiant)):\n",
    "      planning_etudiant[etudiant_nom_entreprises[etudiant_meeting]]=[]\n",
    "      for dating in range(len(table_etudiant[etudiant_meeting])):\n",
    "            if table_etudiant[etudiant_meeting][dating]==1:\n",
    "                  #regarde quel créneau de l'entreprise est dispo\n",
    "                  for creneau in creneaux_entreprise_dispo[entreprise_nom_entreprises[dating]]: #on ajoute le premier créneau dispo\n",
    "                        planning_etudiant[etudiant_nom_entreprises[etudiant_meeting]].append(creneau)\n",
    "                        creneaux_entreprise_dispo[entreprise_nom_entreprises[dating]].remove(creneau)\n",
    "                        planning_entreprise[entreprise_nom_entreprises[dating]].append(creneau)\n",
    "                        break\n",
    "            else:\n",
    "                  planning_etudiant[etudiant_nom_entreprises[etudiant_meeting]].append(\"aucun\")\n",
    "\n",
    "#dico final\n",
    "planning_final={}\n",
    "for planning_etu in planning_etudiant:\n",
    "      dict={}\n",
    "      #preparation data\n",
    "      for creneau in range(len(planning_etudiant[planning_etu])):\n",
    "            dict[planning_etudiant[planning_etu][creneau]]=[]\n",
    "      #insertion data\n",
    "      for creneau in range(len(planning_etudiant[planning_etu])):\n",
    "            dict[planning_etudiant[planning_etu][creneau]].append(entreprise_nom_entreprises[creneau])\n",
    "      planning_final[planning_etu]=dict\n",
    "\n",
    "print(\"===========================planning final=======================\")\n",
    "for i in planning_final:\n",
    "      print(i,planning_final[i])"
   ]
  },
  {
   "attachments": {},
   "cell_type": "markdown",
   "metadata": {},
   "source": [
    "#### Planification des matchs d'une rencontre de championnat de badminton"
   ]
  },
  {
   "cell_type": "code",
   "execution_count": 147,
   "metadata": {},
   "outputs": [
    {
     "name": "stdout",
     "output_type": "stream",
     "text": [
      "Les groupes de matchs qui peuvent etre joué en meme temps sont : [['SH1', 'SH2', 'SD1', 'SD2', 'Mx2'], ['DH', 'DD', 'Mx1']]\n"
     ]
    }
   ],
   "source": [
    "match=[\"SH1\",\"SH2\",\"SD1\",\"SD2\",\"DH\",\"DD\",\"Mx1\",\"Mx2\"]\n",
    "match_joueurs_badminton=[[1,0,0,0,0,0,0,0],[0,1,0,0,1,0,0,0],[0,0,1,0,0,1,0,0],[0,0,0,1,0,1,0,0],\n",
    "                         [0,0,0,0,1,0,0,0],[0,0,0,0,0,0,1,0],[0,0,0,0,0,0,1,0],[0,0,0,0,0,0,0,1],\n",
    "                         [0,0,0,0,0,0,0,1],[1,0,0,0,1,0,0,0],[0,1,0,0,0,0,1,0],[0,0,1,0,0,1,0,0],\n",
    "                         [0,0,0,1,0,0,1,0],[0,0,0,0,1,0,0,1],[0,0,0,0,0,1,0,1]]\n",
    "joueurs=[\"JB\",\"JF\",\"SP\",\"AC\",\"AT\",\"JM\",\"SQ\",\"AL\",\"HL\",\"ML\",\"OL\",\"DT\",\"CT\",\"ET\",\"IC\"]\n",
    "terrain={\"0\":[],\"1\":[],\"2\":[],\"3\":[],\"4\":[],\"5\":[],\"6\":[],\"7\":[]}\n",
    "blacklist=[] #va servir a stocker les rencontre qui ne peuvent pas se produire car un joueur est déja solicité\n",
    "joue_en_parallele=[]\n",
    "\n",
    "\n",
    "def peut_jouer_parallele(match_joueurs): # on crée une fonction car on va l'utilisé plusieur fois\n",
    "    for i in range(len(match_joueurs)):\n",
    "        for j in range(len(match_joueurs[i])):\n",
    "            if match_joueurs[i][j]== 1 and j not in blacklist: #si la rencontre n'est pas bannies\n",
    "                for t in terrain:\n",
    "                    if joueurs[i] in terrain[t]: #vérifie que le joueur n'est pas déja dans un terrain\n",
    "                        if j not in blacklist : #si le joueur est deja dans un terrain on ajoute l'id de la rencontre dans une liste des rencontre bannies pour a terme l'empecher de se produire (meme si d'autre membre peuvent y participer)\n",
    "                            blacklist.append(j)\n",
    "                        break\n",
    "                if joueurs[i] not in terrain[t]:\n",
    "                    terrain[str(j)].append(joueurs[i])\n",
    "            if j in blacklist: # supprime tout les joueurs sur le terrain si l'id de la rencontre est dans la liste des rencontre bannies\n",
    "                terrain[str(j)]=[]\n",
    "    #print(terrain)\n",
    "\n",
    "########################################création planning mais sans graphe et sans coloration car plus efficace\n",
    "\n",
    "peut_jouer_parallele(match_joueurs_badminton)\n",
    "\n",
    "parrallele=[]\n",
    "for i in terrain:\n",
    "    if terrain[i] != []:\n",
    "        parrallele.append(match[int(i)])\n",
    "\n",
    "joue_en_parallele.append(parrallele) #on a pour la première fois les rencontre qui peuvent se passer en meme temps\n",
    "\n",
    "while blacklist != []: #la fonction peut_jouer_parallele se lancera tant que il y aura des matchs dans \"blacklist\" qui n'auront donc pas été joué\n",
    "    for i in range(len(match_joueurs_badminton)):\n",
    "        for j in range(len(match_joueurs_badminton[i])):\n",
    "            if j not in blacklist: #si la rencontre n'avais pas été bannies\n",
    "                match_joueurs_badminton[i][j]=0 #on supprime les rencontre qui on déja eu lieu dans l'agendas des joueurs\n",
    "    blacklist=[]\n",
    "    terrain={\"0\":[],\"1\":[],\"2\":[],\"3\":[],\"4\":[],\"5\":[],\"6\":[],\"7\":[]} #il faut réinitialisé les terrains\n",
    "    peut_jouer_parallele(match_joueurs_badminton) #on peut maintenant relancer la fonction pour voir quel match parmis les bannis du tour précedent peuvent etre joués en meme temps\n",
    "    parrallele=[]\n",
    "    for i in terrain:\n",
    "        if terrain[i] != []:\n",
    "            parrallele.append(match[int(i)])\n",
    "    \n",
    "joue_en_parallele.append(parrallele)\n",
    "\n",
    "print(\"Les groupes de matchs qui peuvent etre joué en meme temps sont :\",joue_en_parallele)"
   ]
  },
  {
   "attachments": {},
   "cell_type": "markdown",
   "metadata": {},
   "source": [
    "#### Planification des matchs d'une rencontre supplémentaire de championnat de badminton\n",
    "\n",
    "Journée de championnat choisie : <donnez le numéro de la journée et les 2 équipes concernées ainsi que le lien vers la page de la ffbd>"
   ]
  },
  {
   "cell_type": "code",
   "execution_count": 149,
   "metadata": {},
   "outputs": [
    {
     "name": "stdout",
     "output_type": "stream",
     "text": [
      "https://google.com/quelquechose_à_mettre_ici\n",
      "journée 1 : 1 VS 2\n"
     ]
    }
   ],
   "source": [
    "# Inputs\n",
    "num_journee=0\n",
    "equipe1=\"\"\n",
    "equipe2=\"\"\n",
    "ffbd=\"\"\n",
    "ok = False\n",
    "while not ok:\n",
    "    try:\n",
    "        num_journee=int(input(\"donnez le numéro de la journée: \"))\n",
    "        ok=True\n",
    "    except:\n",
    "        ok=False\n",
    "ok = False\n",
    "while not ok:\n",
    "    try:\n",
    "        equipe1=str(input(\"donnez la première équipe concerné: \"))\n",
    "        ok=True\n",
    "    except:\n",
    "        print(\"il faut donner un String\")\n",
    "        ok=False\n",
    "ok = False\n",
    "while not ok:\n",
    "    try:\n",
    "        equipe2=str(input(\"donnez la deuxième équipe concerné: \"))\n",
    "        ok=True\n",
    "    except:\n",
    "        print(\"il faut donner un String\")\n",
    "        ok=False\n",
    "ok = False\n",
    "while not ok:\n",
    "    try:\n",
    "        ffbd=str(input(\"donnez le lien de la page ffbd\"))\n",
    "        ok=True\n",
    "    except:\n",
    "        print(\"il faut donner un String\")\n",
    "        ok=False\n",
    "#truc à faire\n",
    "print(ffbd+\"/quelquechose_à_mettre_ici\")\n",
    "print(\"journée\",num_journee,\":\",equipe1,\"VS\",equipe2)"
   ]
  }
 ],
 "metadata": {
  "colab": {
   "collapsed_sections": [],
   "name": "coloration_graphes.ipynb",
   "provenance": []
  },
  "interpreter": {
   "hash": "81117c8c447e168d9a38a96a9ef319fcd55e71c398ce2c2fd7c7a590e37bb453"
  },
  "kernelspec": {
   "display_name": "Python 3.8.5 ('base')",
   "language": "python",
   "name": "python3"
  },
  "language_info": {
   "codemirror_mode": {
    "name": "ipython",
    "version": 3
   },
   "file_extension": ".py",
   "mimetype": "text/x-python",
   "name": "python",
   "nbconvert_exporter": "python",
   "pygments_lexer": "ipython3",
   "version": "3.10.11"
  }
 },
 "nbformat": 4,
 "nbformat_minor": 1
}
